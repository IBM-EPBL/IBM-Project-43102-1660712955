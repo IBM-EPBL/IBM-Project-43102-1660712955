{
  "metadata": {
    "language_info": {
      "codemirror_mode": {
        "name": "python",
        "version": 3
      },
      "file_extension": ".py",
      "mimetype": "text/x-python",
      "name": "python",
      "nbconvert_exporter": "python",
      "pygments_lexer": "ipython3",
      "version": "3.8"
    },
    "kernelspec": {
      "name": "python",
      "display_name": "Python (Pyodide)",
      "language": "python"
    }
  },
  "nbformat_minor": 4,
  "nbformat": 4,
  "cells": [
    {
      "cell_type": "markdown",
      "source": "1. Required libararies are imported",
      "metadata": {}
    },
    {
      "cell_type": "code",
      "source": "import numpy as np \nimport pandas as pd \nimport matplotlib.pyplot as plt\nimport seaborn as sns\nimport keras\nfrom sklearn.model_selection import train_test_split\nfrom sklearn.preprocessing import LabelEncoder\nfrom keras.models import Model\nfrom keras.layers import LSTM, Activation, Dense, Dropout, Input, Embedding\nfrom keras.optimizers import RMSprop\nfrom keras.preprocessing.text import Tokenizer\nfrom keras.preprocessing import sequence\nfrom keras.utils import to_categorical, pad_sequences\nfrom keras.callbacks import EarlyStopping\n%matplotlib inline",
      "metadata": {},
      "execution_count": null,
      "outputs": []
    },
    {
      "cell_type": "markdown",
      "source": "2. Read dataset and pre processing",
      "metadata": {}
    },
    {
      "cell_type": "code",
      "source": "df = pd.read_csv('spam.csv',delimiter=',',encoding='latin-1')\ndf.head()",
      "metadata": {},
      "execution_count": null,
      "outputs": []
    },
    {
      "cell_type": "code",
      "source": "",
      "metadata": {},
      "execution_count": null,
      "outputs": []
    },
    {
      "cell_type": "code",
      "source": "df.drop(['Unnamed: 2', 'Unnamed: 3', 'Unnamed: 4'],axis=1,inplace=True)",
      "metadata": {},
      "execution_count": null,
      "outputs": []
    },
    {
      "cell_type": "code",
      "source": "df.shape",
      "metadata": {},
      "execution_count": null,
      "outputs": []
    },
    {
      "cell_type": "code",
      "source": "(5572, 2)",
      "metadata": {},
      "execution_count": null,
      "outputs": []
    },
    {
      "cell_type": "code",
      "source": "#plot the ham and spam messages to understand the distribution\ndf['v1'].value_counts().plot(kind='bar')\nplt.xlabel('Label')\nplt.title('Number of ham and spam messages')",
      "metadata": {},
      "execution_count": null,
      "outputs": []
    },
    {
      "cell_type": "code",
      "source": "X = df.v2\nY = df.v1\n#label encoding for Y\nle = LabelEncoder()\nY = le.fit_transform(Y)\nY = Y.reshape(-1,1)",
      "metadata": {},
      "execution_count": null,
      "outputs": []
    },
    {
      "cell_type": "markdown",
      "source": "3. Train-test split",
      "metadata": {}
    },
    {
      "cell_type": "code",
      "source": "#split into train and test sets\nX_train,X_test,Y_train,Y_test = train_test_split(X,Y,test_size=0.20)",
      "metadata": {},
      "execution_count": null,
      "outputs": []
    },
    {
      "cell_type": "markdown",
      "source": "4. Tokenizer",
      "metadata": {}
    },
    {
      "cell_type": "code",
      "source": "max_words = 1000\nmax_len = 150\ntok = Tokenizer(num_words=max_words)\ntok.fit_on_texts(X_train)\nsequences = tok.texts_to_sequences(X_train)\nsequences_matrix = keras.utils.pad_sequences(sequences,maxlen=max_len)",
      "metadata": {},
      "execution_count": null,
      "outputs": []
    },
    {
      "cell_type": "markdown",
      "source": "5. Add Layers(LSTM, Dense-(Hidden Layers), Output)",
      "metadata": {}
    },
    {
      "cell_type": "code",
      "source": "inputs = Input(name='inputs',shape=[max_len])\nlayer = Embedding(max_words,50,input_length=max_len)(inputs)\nlayer = LSTM(64)(layer)\nlayer = Dense(256,name='FC1')(layer)\nlayer = Activation('relu')(layer)\nlayer = Dropout(0.5)(layer)\nlayer = Dense(1,name='out_layer')(layer)\nlayer = Activation('sigmoid')(layer)",
      "metadata": {},
      "execution_count": null,
      "outputs": []
    },
    {
      "cell_type": "markdown",
      "source": "6. Create Model",
      "metadata": {}
    },
    {
      "cell_type": "code",
      "source": "model = Model(inputs=inputs,outputs=layer)",
      "metadata": {},
      "execution_count": null,
      "outputs": []
    },
    {
      "cell_type": "markdown",
      "source": "7. Compile the Model",
      "metadata": {}
    },
    {
      "cell_type": "code",
      "source": "\nmodel.summary()\nmodel.compile(loss='binary_crossentropy',optimizer=RMSprop(),metrics=['accuracy'])",
      "metadata": {},
      "execution_count": null,
      "outputs": []
    },
    {
      "cell_type": "markdown",
      "source": "8.Fit the Model",
      "metadata": {}
    },
    {
      "cell_type": "code",
      "source": "model.fit(sequences_matrix,Y_train,batch_size=128,epochs=10,validation_split=0.2,callbacks=[EarlyStopping(monitor='val_loss',min_delta=0.0001)])",
      "metadata": {},
      "execution_count": null,
      "outputs": []
    },
    {
      "cell_type": "markdown",
      "source": "9. Save the Model",
      "metadata": {}
    },
    {
      "cell_type": "code",
      "source": "model.save('spam_lstm_model.h5')",
      "metadata": {},
      "execution_count": null,
      "outputs": []
    },
    {
      "cell_type": "markdown",
      "source": "10.Test the Model",
      "metadata": {}
    },
    {
      "cell_type": "code",
      "source": "#processing test data\ntest_sequences = tok.texts_to_sequences(X_test)\ntest_sequences_matrix = keras.utils.pad_sequences(test_sequences,maxlen=max_len)",
      "metadata": {},
      "execution_count": null,
      "outputs": []
    },
    {
      "cell_type": "code",
      "source": "#evaluation of our model\naccr = model.evaluate(test_sequences_matrix,Y_test)\nprint('Test set\\n  Loss: {:0.3f}\\n  Accuracy: {:0.3f}'.format(accr[0],accr[1]))",
      "metadata": {
        "trusted": true
      },
      "execution_count": null,
      "outputs": []
    },
    {
      "cell_type": "code",
      "source": "35/35 [==============================] - 1s 16ms/step - loss: 0.0910 - accuracy: 0.9785\nTest set\n  Loss: 0.091\n  Accuracy: 0.978",
      "metadata": {},
      "execution_count": null,
      "outputs": []
    },
    {
      "cell_type": "code",
      "source": "",
      "metadata": {},
      "execution_count": null,
      "outputs": []
    }
  ]
}